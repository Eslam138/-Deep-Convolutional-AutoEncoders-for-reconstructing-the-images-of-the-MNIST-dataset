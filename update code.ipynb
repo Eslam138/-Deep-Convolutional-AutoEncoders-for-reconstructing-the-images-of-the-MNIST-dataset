{
  "nbformat": 4,
  "nbformat_minor": 0,
  "metadata": {
    "colab": {
      "name": "Gan_ASSig_3.ipynb",
      "provenance": [],
      "collapsed_sections": []
    },
    "kernelspec": {
      "name": "python3",
      "display_name": "Python 3"
    },
    "language_info": {
      "name": "python"
    },
    "accelerator": "GPU"
  },
  "cells": [
    {
      "cell_type": "code",
      "metadata": {
        "id": "N0CPdYmnntG-"
      },
      "source": [
        "import keras\n",
        "from keras import layers\n"
      ],
      "execution_count": null,
      "outputs": []
    },
    {
      "cell_type": "code",
      "metadata": {
        "id": "i99TK9H2n3Ll"
      },
      "source": [
        "# Encoder\n",
        "input_img = keras.Input(shape=(28, 28, 1))\n",
        "x = layers.Conv2D(16, (3, 3), activation='relu', padding='same')(input_img)\n",
        "x = layers.MaxPooling2D((2, 2), padding='same')(x)\n",
        "x = layers.Conv2D(8, (3, 3), activation='relu', padding='same')(x)\n",
        "x = layers.MaxPooling2D((2, 2), padding='same')(x)\n",
        "x = layers.Conv2D(8, (3, 3), activation='relu', padding='same')(x)\n",
        "encoded = layers.MaxPooling2D((2, 2), padding='same')(x)"
      ],
      "execution_count": null,
      "outputs": []
    },
    {
      "cell_type": "code",
      "metadata": {
        "id": "_P-bJaZvn-z5"
      },
      "source": [
        "# Decoder\n",
        "x = layers.Conv2D(8, (3, 3), activation='relu', padding='same')(encoded)\n",
        "x = layers.UpSampling2D((2, 2))(x)\n",
        "x = layers.Conv2D(8, (3, 3), activation='relu', padding='same')(x)\n",
        "x = layers.UpSampling2D((2, 2))(x)\n",
        "x = layers.Conv2D(16, (3, 3), activation='relu')(x)\n",
        "x = layers.UpSampling2D((2, 2))(x)\n",
        "decoded = layers.Conv2D(1, (3, 3), activation='sigmoid', padding='same')(x)"
      ],
      "execution_count": null,
      "outputs": []
    },
    {
      "cell_type": "code",
      "metadata": {
        "colab": {
          "base_uri": "https://localhost:8080/"
        },
        "id": "C_ufnjjPoKXo",
        "outputId": "d9622734-154d-4837-cb20-71ea866a635e"
      },
      "source": [
        "autoencoder = keras.Model(input_img, decoded)\n",
        "autoencoder.compile(optimizer='adam', loss='binary_crossentropy',metrics=['accuracy'])\n",
        "autoencoder.summary()"
      ],
      "execution_count": null,
      "outputs": [
        {
          "output_type": "stream",
          "name": "stdout",
          "text": [
            "Model: \"model_8\"\n",
            "_________________________________________________________________\n",
            " Layer (type)                Output Shape              Param #   \n",
            "=================================================================\n",
            " input_5 (InputLayer)        [(None, 28, 28, 1)]       0         \n",
            "                                                                 \n",
            " conv2d_14 (Conv2D)          (None, 28, 28, 16)        160       \n",
            "                                                                 \n",
            " max_pooling2d_6 (MaxPooling  (None, 14, 14, 16)       0         \n",
            " 2D)                                                             \n",
            "                                                                 \n",
            " conv2d_15 (Conv2D)          (None, 14, 14, 8)         1160      \n",
            "                                                                 \n",
            " max_pooling2d_7 (MaxPooling  (None, 7, 7, 8)          0         \n",
            " 2D)                                                             \n",
            "                                                                 \n",
            " conv2d_16 (Conv2D)          (None, 7, 7, 8)           584       \n",
            "                                                                 \n",
            " max_pooling2d_8 (MaxPooling  (None, 4, 4, 8)          0         \n",
            " 2D)                                                             \n",
            "                                                                 \n",
            " conv2d_17 (Conv2D)          (None, 4, 4, 8)           584       \n",
            "                                                                 \n",
            " up_sampling2d_3 (UpSampling  (None, 8, 8, 8)          0         \n",
            " 2D)                                                             \n",
            "                                                                 \n",
            " conv2d_18 (Conv2D)          (None, 8, 8, 8)           584       \n",
            "                                                                 \n",
            " up_sampling2d_4 (UpSampling  (None, 16, 16, 8)        0         \n",
            " 2D)                                                             \n",
            "                                                                 \n",
            " conv2d_19 (Conv2D)          (None, 14, 14, 16)        1168      \n",
            "                                                                 \n",
            " up_sampling2d_5 (UpSampling  (None, 28, 28, 16)       0         \n",
            " 2D)                                                             \n",
            "                                                                 \n",
            " conv2d_20 (Conv2D)          (None, 28, 28, 1)         145       \n",
            "                                                                 \n",
            "=================================================================\n",
            "Total params: 4,385\n",
            "Trainable params: 4,385\n",
            "Non-trainable params: 0\n",
            "_________________________________________________________________\n"
          ]
        }
      ]
    },
    {
      "cell_type": "code",
      "metadata": {
        "id": "UG8YE2yqoRTb"
      },
      "source": [
        ""
      ],
      "execution_count": null,
      "outputs": []
    },
    {
      "cell_type": "code",
      "metadata": {
        "id": "G6cLqPhsoSEq"
      },
      "source": [
        "from keras.datasets import mnist\n",
        "import numpy as np\n",
        "\n",
        "(x_train, _), (x_test, _) = mnist.load_data()"
      ],
      "execution_count": null,
      "outputs": []
    },
    {
      "cell_type": "code",
      "metadata": {
        "id": "vaBQGe7soWQr"
      },
      "source": [
        "x_train = x_train.astype('float32') / 255.\n",
        "x_test = x_test.astype('float32') / 255.\n",
        "x_train = np.reshape(x_train, (len(x_train), 28, 28, 1))\n",
        "x_test = np.reshape(x_test, (len(x_test), 28, 28, 1))"
      ],
      "execution_count": null,
      "outputs": []
    },
    {
      "cell_type": "code",
      "metadata": {
        "id": "oFuw5RQvFRmU"
      },
      "source": [
        "# Test dataset \n",
        "import random as r\n",
        "k=20\n",
        "data=np.zeros((k,28,28,1))\n",
        "for i in range(k):\n",
        "    data[i,:,:]=x_test[r.randint(0,10000),:,:]\n"
      ],
      "execution_count": null,
      "outputs": []
    },
    {
      "cell_type": "code",
      "metadata": {
        "colab": {
          "base_uri": "https://localhost:8080/"
        },
        "id": "d1z1lnIOoYzs",
        "outputId": "3cecdcab-3135-4175-b809-51b5d1a1d9da"
      },
      "source": [
        "autoencoder.fit(x_train, x_train,\n",
        "                epochs=20, #50,\n",
        "                batch_size=128,\n",
        "                shuffle=True,\n",
        "                validation_data=(x_test, x_test))\n",
        "              "
      ],
      "execution_count": null,
      "outputs": [
        {
          "output_type": "stream",
          "name": "stdout",
          "text": [
            "Epoch 1/20\n",
            "469/469 [==============================] - 8s 14ms/step - loss: 0.2069 - accuracy: 0.7941 - val_loss: 0.1440 - val_accuracy: 0.8020\n",
            "Epoch 2/20\n",
            "469/469 [==============================] - 6s 13ms/step - loss: 0.1332 - accuracy: 0.8054 - val_loss: 0.1247 - val_accuracy: 0.8059\n",
            "Epoch 3/20\n",
            "469/469 [==============================] - 6s 13ms/step - loss: 0.1216 - accuracy: 0.8079 - val_loss: 0.1172 - val_accuracy: 0.8081\n",
            "Epoch 4/20\n",
            "469/469 [==============================] - 6s 13ms/step - loss: 0.1155 - accuracy: 0.8092 - val_loss: 0.1121 - val_accuracy: 0.8087\n",
            "Epoch 5/20\n",
            "469/469 [==============================] - 6s 13ms/step - loss: 0.1116 - accuracy: 0.8100 - val_loss: 0.1090 - val_accuracy: 0.8090\n",
            "Epoch 6/20\n",
            "469/469 [==============================] - 6s 13ms/step - loss: 0.1089 - accuracy: 0.8105 - val_loss: 0.1067 - val_accuracy: 0.8094\n",
            "Epoch 7/20\n",
            "469/469 [==============================] - 6s 13ms/step - loss: 0.1069 - accuracy: 0.8109 - val_loss: 0.1049 - val_accuracy: 0.8099\n",
            "Epoch 8/20\n",
            "469/469 [==============================] - 6s 13ms/step - loss: 0.1052 - accuracy: 0.8112 - val_loss: 0.1033 - val_accuracy: 0.8105\n",
            "Epoch 9/20\n",
            "469/469 [==============================] - 6s 13ms/step - loss: 0.1041 - accuracy: 0.8114 - val_loss: 0.1024 - val_accuracy: 0.8110\n",
            "Epoch 10/20\n",
            "469/469 [==============================] - 6s 13ms/step - loss: 0.1029 - accuracy: 0.8116 - val_loss: 0.1012 - val_accuracy: 0.8107\n",
            "Epoch 11/20\n",
            "469/469 [==============================] - 6s 13ms/step - loss: 0.1020 - accuracy: 0.8118 - val_loss: 0.1010 - val_accuracy: 0.8111\n",
            "Epoch 12/20\n",
            "469/469 [==============================] - 6s 13ms/step - loss: 0.1012 - accuracy: 0.8119 - val_loss: 0.0996 - val_accuracy: 0.8109\n",
            "Epoch 13/20\n",
            "469/469 [==============================] - 6s 13ms/step - loss: 0.1006 - accuracy: 0.8120 - val_loss: 0.0991 - val_accuracy: 0.8109\n",
            "Epoch 14/20\n",
            "469/469 [==============================] - 6s 13ms/step - loss: 0.1000 - accuracy: 0.8121 - val_loss: 0.0986 - val_accuracy: 0.8112\n",
            "Epoch 15/20\n",
            "469/469 [==============================] - 6s 13ms/step - loss: 0.0995 - accuracy: 0.8122 - val_loss: 0.0986 - val_accuracy: 0.8109\n",
            "Epoch 16/20\n",
            "469/469 [==============================] - 6s 13ms/step - loss: 0.0991 - accuracy: 0.8123 - val_loss: 0.0976 - val_accuracy: 0.8115\n",
            "Epoch 17/20\n",
            "469/469 [==============================] - 6s 13ms/step - loss: 0.0986 - accuracy: 0.8123 - val_loss: 0.0972 - val_accuracy: 0.8117\n",
            "Epoch 18/20\n",
            "469/469 [==============================] - 6s 13ms/step - loss: 0.0982 - accuracy: 0.8124 - val_loss: 0.0969 - val_accuracy: 0.8112\n",
            "Epoch 19/20\n",
            "469/469 [==============================] - 6s 13ms/step - loss: 0.0979 - accuracy: 0.8124 - val_loss: 0.0970 - val_accuracy: 0.8118\n",
            "Epoch 20/20\n",
            "469/469 [==============================] - 6s 13ms/step - loss: 0.0976 - accuracy: 0.8125 - val_loss: 0.0965 - val_accuracy: 0.8120\n"
          ]
        },
        {
          "output_type": "execute_result",
          "data": {
            "text/plain": [
              "<keras.callbacks.History at 0x7f56972b9b90>"
            ]
          },
          "metadata": {},
          "execution_count": 35
        }
      ]
    },
    {
      "cell_type": "code",
      "metadata": {
        "id": "XJ0oUxm3oe0O",
        "colab": {
          "base_uri": "https://localhost:8080/"
        },
        "outputId": "bd43d515-c136-41ef-e8ab-bae54893bc13"
      },
      "source": [
        "encoder = keras.Model(input_img, encoded)\n",
        "encoded_img=encoder.predict(data)\n"
      ],
      "execution_count": null,
      "outputs": [
        {
          "output_type": "stream",
          "name": "stdout",
          "text": [
            "WARNING:tensorflow:5 out of the last 9 calls to <function Model.make_predict_function.<locals>.predict_function at 0x7f561fb2f5f0> triggered tf.function retracing. Tracing is expensive and the excessive number of tracings could be due to (1) creating @tf.function repeatedly in a loop, (2) passing tensors with different shapes, (3) passing Python objects instead of tensors. For (1), please define your @tf.function outside of the loop. For (2), @tf.function has experimental_relax_shapes=True option that relaxes argument shapes that can avoid unnecessary retracing. For (3), please refer to https://www.tensorflow.org/guide/function#controlling_retracing and https://www.tensorflow.org/api_docs/python/tf/function for  more details.\n"
          ]
        }
      ]
    },
    {
      "cell_type": "code",
      "metadata": {
        "colab": {
          "base_uri": "https://localhost:8080/"
        },
        "id": "OUp6v6QopOAE",
        "outputId": "3d1987ad-a1bd-4be2-db6c-70648111c4fa"
      },
      "source": [
        "encoder.summary()"
      ],
      "execution_count": null,
      "outputs": [
        {
          "output_type": "stream",
          "name": "stdout",
          "text": [
            "Model: \"model_10\"\n",
            "_________________________________________________________________\n",
            " Layer (type)                Output Shape              Param #   \n",
            "=================================================================\n",
            " input_5 (InputLayer)        [(None, 28, 28, 1)]       0         \n",
            "                                                                 \n",
            " conv2d_14 (Conv2D)          (None, 28, 28, 16)        160       \n",
            "                                                                 \n",
            " max_pooling2d_6 (MaxPooling  (None, 14, 14, 16)       0         \n",
            " 2D)                                                             \n",
            "                                                                 \n",
            " conv2d_15 (Conv2D)          (None, 14, 14, 8)         1160      \n",
            "                                                                 \n",
            " max_pooling2d_7 (MaxPooling  (None, 7, 7, 8)          0         \n",
            " 2D)                                                             \n",
            "                                                                 \n",
            " conv2d_16 (Conv2D)          (None, 7, 7, 8)           584       \n",
            "                                                                 \n",
            " max_pooling2d_8 (MaxPooling  (None, 4, 4, 8)          0         \n",
            " 2D)                                                             \n",
            "                                                                 \n",
            "=================================================================\n",
            "Total params: 1,904\n",
            "Trainable params: 1,904\n",
            "Non-trainable params: 0\n",
            "_________________________________________________________________\n"
          ]
        }
      ]
    },
    {
      "cell_type": "code",
      "metadata": {
        "id": "FfjlSm0Dosjz"
      },
      "source": [
        "input=keras.layers.Input(shape=encoded_img.shape[1:])\n",
        "x = autoencoder.layers[-7](input)\n",
        "x = autoencoder.layers[-6](x)\n",
        "x = autoencoder.layers[-5](x)\n",
        "x = autoencoder.layers[-4](x)\n",
        "x = autoencoder.layers[-3](x)\n",
        "x = autoencoder.layers[-2](x)\n",
        "decoded = autoencoder.layers[-1](x)\n",
        "decoder = keras.Model(input, decoded)"
      ],
      "execution_count": null,
      "outputs": []
    },
    {
      "cell_type": "code",
      "metadata": {
        "colab": {
          "base_uri": "https://localhost:8080/"
        },
        "id": "pNGmqy_nqlBW",
        "outputId": "e5bdaaa3-3bae-4842-bcf5-e58eaf4f6c75"
      },
      "source": [
        "decoder.summary()"
      ],
      "execution_count": null,
      "outputs": [
        {
          "output_type": "stream",
          "name": "stdout",
          "text": [
            "Model: \"model_11\"\n",
            "_________________________________________________________________\n",
            " Layer (type)                Output Shape              Param #   \n",
            "=================================================================\n",
            " input_6 (InputLayer)        [(None, 4, 4, 8)]         0         \n",
            "                                                                 \n",
            " conv2d_17 (Conv2D)          (None, 4, 4, 8)           584       \n",
            "                                                                 \n",
            " up_sampling2d_3 (UpSampling  (None, 8, 8, 8)          0         \n",
            " 2D)                                                             \n",
            "                                                                 \n",
            " conv2d_18 (Conv2D)          (None, 8, 8, 8)           584       \n",
            "                                                                 \n",
            " up_sampling2d_4 (UpSampling  (None, 16, 16, 8)        0         \n",
            " 2D)                                                             \n",
            "                                                                 \n",
            " conv2d_19 (Conv2D)          (None, 14, 14, 16)        1168      \n",
            "                                                                 \n",
            " up_sampling2d_5 (UpSampling  (None, 28, 28, 16)       0         \n",
            " 2D)                                                             \n",
            "                                                                 \n",
            " conv2d_20 (Conv2D)          (None, 28, 28, 1)         145       \n",
            "                                                                 \n",
            "=================================================================\n",
            "Total params: 2,481\n",
            "Trainable params: 2,481\n",
            "Non-trainable params: 0\n",
            "_________________________________________________________________\n"
          ]
        }
      ]
    },
    {
      "cell_type": "code",
      "metadata": {
        "id": "HKALfyltrrNt",
        "colab": {
          "base_uri": "https://localhost:8080/"
        },
        "outputId": "8885e8e1-ee7e-43eb-f6ec-4fc97b10258c"
      },
      "source": [
        "encoded_img=encoder.predict(data)\n",
        "decoded_img=decoder.predict(encoded_img)"
      ],
      "execution_count": null,
      "outputs": [
        {
          "output_type": "stream",
          "name": "stdout",
          "text": [
            "WARNING:tensorflow:6 out of the last 11 calls to <function Model.make_predict_function.<locals>.predict_function at 0x7f561efe9d40> triggered tf.function retracing. Tracing is expensive and the excessive number of tracings could be due to (1) creating @tf.function repeatedly in a loop, (2) passing tensors with different shapes, (3) passing Python objects instead of tensors. For (1), please define your @tf.function outside of the loop. For (2), @tf.function has experimental_relax_shapes=True option that relaxes argument shapes that can avoid unnecessary retracing. For (3), please refer to https://www.tensorflow.org/guide/function#controlling_retracing and https://www.tensorflow.org/api_docs/python/tf/function for  more details.\n"
          ]
        }
      ]
    },
    {
      "cell_type": "code",
      "metadata": {
        "colab": {
          "base_uri": "https://localhost:8080/"
        },
        "id": "qjlvZxeKslbh",
        "outputId": "d89fb450-a828-4917-a37c-43b42a18b523"
      },
      "source": [
        "decoded_img.shape"
      ],
      "execution_count": null,
      "outputs": [
        {
          "output_type": "execute_result",
          "data": {
            "text/plain": [
              "(20, 28, 28, 1)"
            ]
          },
          "metadata": {},
          "execution_count": 41
        }
      ]
    },
    {
      "cell_type": "code",
      "metadata": {
        "colab": {
          "base_uri": "https://localhost:8080/",
          "height": 263
        },
        "id": "Po3U6ul1sn3c",
        "outputId": "618d3275-0bf0-4037-e794-7915ac05268d"
      },
      "source": [
        "import matplotlib.pyplot as plt\n",
        "\n",
        "n = 10\n",
        "plt.figure(figsize=(20, 4))\n",
        "for i in range(1, n + 1):\n",
        "    # Display original\n",
        "    ax = plt.subplot(2, n, i)\n",
        "    plt.imshow(data[i].reshape(28, 28))\n",
        "    plt.gray()\n",
        "\n",
        "    # Display reconstruction\n",
        "    ax = plt.subplot(2, n, i + n)\n",
        "    plt.imshow(decoded_img[i].reshape(28, 28))\n",
        "    plt.gray()\n",
        "\n",
        "plt.show()\n"
      ],
      "execution_count": null,
      "outputs": [
        {
          "output_type": "display_data",
          "data": {
            "image/png": "[encoded data removed]",
            "text/plain": [
              "<Figure size 1440x288 with 20 Axes>"
            ]
          },
          "metadata": {
            "needs_background": "light"
          }
        }
      ]
    },
    {
      "cell_type": "code",
      "metadata": {
        "colab": {
          "base_uri": "https://localhost:8080/",
          "height": 97
        },
        "id": "TK2EJF7I3YW6",
        "outputId": "088f9b63-ef35-4b22-8e79-189aae49535b"
      },
      "source": [
        "n = 19\n",
        "plt.figure(figsize=(20, 4))\n",
        "for i in range(1, n + 1):\n",
        "    ax = plt.subplot(2, n, i)\n",
        "    plt.imshow(encoded_img[i,:,:,1].reshape(4, 4))\n",
        "    plt.gray()\n",
        "plt.show()"
      ],
      "execution_count": null,
      "outputs": [
        {
          "output_type": "display_data",
          "data": {
            "image/png": "[encoded data removed]",
            "text/plain": [
              "<Figure size 1440x288 with 19 Axes>"
            ]
          },
          "metadata": {
            "needs_background": "light"
          }
        }
      ]
    },
    {
      "cell_type": "code",
      "metadata": {
        "id": "doz4r0sOs2Vp"
      },
      "source": [
        "# model 2\n",
        "# Encoder\n",
        "input_img = keras.Input(shape=(28, 28, 1))\n",
        "x = layers.Conv2D(16, (16, 16), activation='relu', padding='same')(input_img)\n",
        "x = layers.MaxPooling2D((2, 2), padding='same')(x)\n",
        "x = layers.Conv2D(32, (8, 8), activation='relu', padding='same')(x)\n",
        "x = layers.MaxPooling2D((2, 2), padding='same')(x)\n",
        "x = layers.Conv2D(64, (4, 4), activation='relu', padding='same')(x)\n",
        "encoded = layers.MaxPooling2D((2, 2), padding='same')(x)\n",
        "# Decoder\n",
        "x = layers.Conv2D(64, (4, 4), activation='relu', padding='same')(encoded)\n",
        "x = layers.Conv2DTranspose(64,5)(x)\n",
        "x = layers.Conv2D(32, (8, 8), activation='relu', padding='same')(x)\n",
        "x = layers.Conv2DTranspose(32,8)(x)\n",
        "x = layers.Conv2D(16, (3, 3), activation='relu')(x)\n",
        "x = layers.Conv2DTranspose(16,16)(x)\n",
        "decoded = layers.Conv2D(1, (3, 3), activation='sigmoid', padding='same')(x)"
      ],
      "execution_count": null,
      "outputs": []
    },
    {
      "cell_type": "code",
      "metadata": {
        "colab": {
          "base_uri": "https://localhost:8080/"
        },
        "id": "PzGEJvacvDgA",
        "outputId": "14437bcc-61b9-4d0c-9650-7da59d0731b4"
      },
      "source": [
        "autoencoder = keras.Model(input_img, decoded)\n",
        "autoencoder.compile(optimizer='adam', loss='binary_crossentropy',metrics=['accuracy'])\n",
        "autoencoder.summary()"
      ],
      "execution_count": null,
      "outputs": [
        {
          "output_type": "stream",
          "name": "stdout",
          "text": [
            "Model: \"model_4\"\n",
            "_________________________________________________________________\n",
            " Layer (type)                Output Shape              Param #   \n",
            "=================================================================\n",
            " input_3 (InputLayer)        [(None, 28, 28, 1)]       0         \n",
            "                                                                 \n",
            " conv2d_7 (Conv2D)           (None, 28, 28, 16)        4112      \n",
            "                                                                 \n",
            " max_pooling2d_3 (MaxPooling  (None, 14, 14, 16)       0         \n",
            " 2D)                                                             \n",
            "                                                                 \n",
            " conv2d_8 (Conv2D)           (None, 14, 14, 32)        32800     \n",
            "                                                                 \n",
            " max_pooling2d_4 (MaxPooling  (None, 7, 7, 32)         0         \n",
            " 2D)                                                             \n",
            "                                                                 \n",
            " conv2d_9 (Conv2D)           (None, 7, 7, 64)          32832     \n",
            "                                                                 \n",
            " max_pooling2d_5 (MaxPooling  (None, 4, 4, 64)         0         \n",
            " 2D)                                                             \n",
            "                                                                 \n",
            " conv2d_10 (Conv2D)          (None, 4, 4, 64)          65600     \n",
            "                                                                 \n",
            " conv2d_transpose (Conv2DTra  (None, 8, 8, 64)         102464    \n",
            " nspose)                                                         \n",
            "                                                                 \n",
            " conv2d_11 (Conv2D)          (None, 8, 8, 32)          131104    \n",
            "                                                                 \n",
            " conv2d_transpose_1 (Conv2DT  (None, 15, 15, 32)       65568     \n",
            " ranspose)                                                       \n",
            "                                                                 \n",
            " conv2d_12 (Conv2D)          (None, 13, 13, 16)        4624      \n",
            "                                                                 \n",
            " conv2d_transpose_2 (Conv2DT  (None, 28, 28, 16)       65552     \n",
            " ranspose)                                                       \n",
            "                                                                 \n",
            " conv2d_13 (Conv2D)          (None, 28, 28, 1)         145       \n",
            "                                                                 \n",
            "=================================================================\n",
            "Total params: 504,801\n",
            "Trainable params: 504,801\n",
            "Non-trainable params: 0\n",
            "_________________________________________________________________\n"
          ]
        }
      ]
    },
    {
      "cell_type": "code",
      "metadata": {
        "id": "SBfH4t5cvfdn"
      },
      "source": [
        ""
      ],
      "execution_count": null,
      "outputs": []
    },
    {
      "cell_type": "code",
      "metadata": {
        "colab": {
          "base_uri": "https://localhost:8080/"
        },
        "id": "9mtWBn6xxqlg",
        "outputId": "03e73c27-fe47-470f-e789-7a5a07d8de59"
      },
      "source": [
        "autoencoder.fit(x_train, x_train,\n",
        "                epochs=20, #50,\n",
        "                batch_size=128,\n",
        "                shuffle=True,\n",
        "                validation_data=(x_test, x_test))\n",
        "              "
      ],
      "execution_count": null,
      "outputs": [
        {
          "output_type": "stream",
          "name": "stdout",
          "text": [
            "Epoch 1/20\n",
            "469/469 [==============================] - 17s 32ms/step - loss: 0.2044 - accuracy: 0.7992 - val_loss: 0.1256 - val_accuracy: 0.8087\n",
            "Epoch 2/20\n",
            "469/469 [==============================] - 14s 31ms/step - loss: 0.1114 - accuracy: 0.8114 - val_loss: 0.0979 - val_accuracy: 0.8118\n",
            "Epoch 3/20\n",
            "469/469 [==============================] - 14s 30ms/step - loss: 0.0946 - accuracy: 0.8136 - val_loss: 0.0923 - val_accuracy: 0.8127\n",
            "Epoch 4/20\n",
            "469/469 [==============================] - 14s 30ms/step - loss: 0.0878 - accuracy: 0.8143 - val_loss: 0.0849 - val_accuracy: 0.8137\n",
            "Epoch 5/20\n",
            "469/469 [==============================] - 14s 30ms/step - loss: 0.0838 - accuracy: 0.8146 - val_loss: 0.0846 - val_accuracy: 0.8132\n",
            "Epoch 6/20\n",
            "469/469 [==============================] - 14s 30ms/step - loss: 0.0811 - accuracy: 0.8148 - val_loss: 0.0784 - val_accuracy: 0.8140\n",
            "Epoch 7/20\n",
            "469/469 [==============================] - 14s 30ms/step - loss: 0.0792 - accuracy: 0.8149 - val_loss: 0.0773 - val_accuracy: 0.8140\n",
            "Epoch 8/20\n",
            "469/469 [==============================] - 14s 30ms/step - loss: 0.0777 - accuracy: 0.8150 - val_loss: 0.0755 - val_accuracy: 0.8141\n",
            "Epoch 9/20\n",
            "469/469 [==============================] - 14s 30ms/step - loss: 0.0767 - accuracy: 0.8151 - val_loss: 0.0749 - val_accuracy: 0.8141\n",
            "Epoch 10/20\n",
            "469/469 [==============================] - 14s 30ms/step - loss: 0.0756 - accuracy: 0.8152 - val_loss: 0.0753 - val_accuracy: 0.8142\n",
            "Epoch 11/20\n",
            "469/469 [==============================] - 14s 30ms/step - loss: 0.0748 - accuracy: 0.8152 - val_loss: 0.0738 - val_accuracy: 0.8142\n",
            "Epoch 12/20\n",
            "469/469 [==============================] - 14s 30ms/step - loss: 0.0741 - accuracy: 0.8152 - val_loss: 0.0729 - val_accuracy: 0.8143\n",
            "Epoch 13/20\n",
            "469/469 [==============================] - 14s 30ms/step - loss: 0.0735 - accuracy: 0.8153 - val_loss: 0.0727 - val_accuracy: 0.8143\n",
            "Epoch 14/20\n",
            "469/469 [==============================] - 14s 30ms/step - loss: 0.0730 - accuracy: 0.8153 - val_loss: 0.0726 - val_accuracy: 0.8143\n",
            "Epoch 15/20\n",
            "469/469 [==============================] - 14s 30ms/step - loss: 0.0724 - accuracy: 0.8153 - val_loss: 0.0726 - val_accuracy: 0.8143\n",
            "Epoch 16/20\n",
            "469/469 [==============================] - 14s 31ms/step - loss: 0.0721 - accuracy: 0.8153 - val_loss: 0.0716 - val_accuracy: 0.8143\n",
            "Epoch 17/20\n",
            "469/469 [==============================] - 14s 30ms/step - loss: 0.0716 - accuracy: 0.8153 - val_loss: 0.0711 - val_accuracy: 0.8143\n",
            "Epoch 18/20\n",
            "469/469 [==============================] - 14s 31ms/step - loss: 0.0713 - accuracy: 0.8153 - val_loss: 0.0710 - val_accuracy: 0.8144\n",
            "Epoch 19/20\n",
            "469/469 [==============================] - 14s 31ms/step - loss: 0.0710 - accuracy: 0.8153 - val_loss: 0.0707 - val_accuracy: 0.8143\n",
            "Epoch 20/20\n",
            "469/469 [==============================] - 14s 31ms/step - loss: 0.0707 - accuracy: 0.8154 - val_loss: 0.0701 - val_accuracy: 0.8144\n"
          ]
        },
        {
          "output_type": "execute_result",
          "data": {
            "text/plain": [
              "<keras.callbacks.History at 0x7f5695a1fb90>"
            ]
          },
          "metadata": {},
          "execution_count": 22
        }
      ]
    },
    {
      "cell_type": "code",
      "metadata": {
        "id": "kaRPyH0q1Qa8"
      },
      "source": [
        "encoder = keras.Model(input_img, encoded)\n",
        "encoded_imgs=encoder.predict(data)"
      ],
      "execution_count": null,
      "outputs": []
    },
    {
      "cell_type": "code",
      "metadata": {
        "colab": {
          "base_uri": "https://localhost:8080/"
        },
        "id": "pW-RLze7x0Qw",
        "outputId": "8fac4dde-765e-4920-b848-3ae1b561fb87"
      },
      "source": [
        "input=keras.layers.Input(shape=encoded_imgs.shape[1:])\n",
        "x = autoencoder.layers[-7](input)\n",
        "x = autoencoder.layers[-6](x)\n",
        "x = autoencoder.layers[-5](x)\n",
        "x = autoencoder.layers[-4](x)\n",
        "x = autoencoder.layers[-3](x)\n",
        "x = autoencoder.layers[-2](x)\n",
        "decoded = autoencoder.layers[-1](x)\n",
        "decoder = keras.Model(input, decoded)\n",
        "decoder.summary()"
      ],
      "execution_count": null,
      "outputs": [
        {
          "output_type": "stream",
          "name": "stdout",
          "text": [
            "Model: \"model_7\"\n",
            "_________________________________________________________________\n",
            " Layer (type)                Output Shape              Param #   \n",
            "=================================================================\n",
            " input_4 (InputLayer)        [(None, 4, 4, 64)]        0         \n",
            "                                                                 \n",
            " conv2d_10 (Conv2D)          (None, 4, 4, 64)          65600     \n",
            "                                                                 \n",
            " conv2d_transpose (Conv2DTra  (None, 8, 8, 64)         102464    \n",
            " nspose)                                                         \n",
            "                                                                 \n",
            " conv2d_11 (Conv2D)          (None, 8, 8, 32)          131104    \n",
            "                                                                 \n",
            " conv2d_transpose_1 (Conv2DT  (None, 15, 15, 32)       65568     \n",
            " ranspose)                                                       \n",
            "                                                                 \n",
            " conv2d_12 (Conv2D)          (None, 13, 13, 16)        4624      \n",
            "                                                                 \n",
            " conv2d_transpose_2 (Conv2DT  (None, 28, 28, 16)       65552     \n",
            " ranspose)                                                       \n",
            "                                                                 \n",
            " conv2d_13 (Conv2D)          (None, 28, 28, 1)         145       \n",
            "                                                                 \n",
            "=================================================================\n",
            "Total params: 435,057\n",
            "Trainable params: 435,057\n",
            "Non-trainable params: 0\n",
            "_________________________________________________________________\n"
          ]
        }
      ]
    },
    {
      "cell_type": "code",
      "metadata": {
        "colab": {
          "base_uri": "https://localhost:8080/",
          "height": 263
        },
        "id": "GhG6VNh4yIvu",
        "outputId": "0f8f3ae9-f9d2-4c8d-a5d0-b886362f9f19"
      },
      "source": [
        "encoded_img=encoder.predict(data)\n",
        "decoded_img=decoder.predict(encoded_img)\n",
        "import matplotlib.pyplot as plt\n",
        "\n",
        "n = 10\n",
        "plt.figure(figsize=(20, 4))\n",
        "for i in range(1, n + 1):\n",
        "    # Display original\n",
        "    ax = plt.subplot(2, n, i)\n",
        "    plt.imshow(data[i].reshape(28, 28))\n",
        "    plt.gray()\n",
        "    # Display reconstruction\n",
        "    ax = plt.subplot(2, n, i + n)\n",
        "    plt.imshow(decoded_img[i].reshape(28, 28))\n",
        "    plt.gray()\n",
        "\n",
        "plt.show()"
      ],
      "execution_count": null,
      "outputs": [
        {
          "output_type": "display_data",
          "data": {
            "image/png": "[encoded data removed]",
            "text/plain": [
              "<Figure size 1440x288 with 20 Axes>"
            ]
          },
          "metadata": {
            "needs_background": "light"
          }
        }
      ]
    },
    {
      "cell_type": "code",
      "metadata": {
        "colab": {
          "base_uri": "https://localhost:8080/"
        },
        "id": "hPHC5v8Ky4FU",
        "outputId": "8eab7e3e-0802-47b8-a27a-7b0110a4f28a"
      },
      "source": [
        ""
      ],
      "execution_count": null,
      "outputs": [
        {
          "output_type": "execute_result",
          "data": {
            "text/plain": [
              "(20, 4, 4, 64)"
            ]
          },
          "metadata": {},
          "execution_count": 26
        }
      ]
    },
    {
      "cell_type": "code",
      "metadata": {
        "id": "AHNJtYKh3m09"
      },
      "source": [
        ""
      ],
      "execution_count": null,
      "outputs": []
    },
    {
      "cell_type": "code",
      "metadata": {
        "id": "bhFPmtkx4A3b"
      },
      "source": [
        ""
      ],
      "execution_count": null,
      "outputs": []
    },
    {
      "cell_type": "code",
      "metadata": {
        "id": "Q29KGtMRDR6S"
      },
      "source": [
        ""
      ],
      "execution_count": null,
      "outputs": []
    },
    {
      "cell_type": "code",
      "metadata": {
        "id": "ojcR9aDjFH4B"
      },
      "source": [
        ""
      ],
      "execution_count": null,
      "outputs": []
    }
  ]
}