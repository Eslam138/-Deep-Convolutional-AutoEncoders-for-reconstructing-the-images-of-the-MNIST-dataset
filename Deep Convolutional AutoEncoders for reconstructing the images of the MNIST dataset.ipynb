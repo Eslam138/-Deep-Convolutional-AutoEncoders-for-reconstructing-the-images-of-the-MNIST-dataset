{
  "nbformat": 4,
  "nbformat_minor": 0,
  "metadata": {
    "colab": {
      "name": "Gan_ASSig_3.ipynb",
      "provenance": []
    },
    "kernelspec": {
      "name": "python3",
      "display_name": "Python 3"
    },
    "language_info": {
      "name": "python"
    },
    "accelerator": "GPU"
  },
  "cells": [
    {
      "cell_type": "code",
      "metadata": {
        "id": "N0CPdYmnntG-"
      },
      "source": [
        "import keras\n",
        "from keras import layers\n"
      ],
      "execution_count": null,
      "outputs": []
    },
    {
      "cell_type": "code",
      "metadata": {
        "id": "i99TK9H2n3Ll"
      },
      "source": [
        "# Encoder\n",
        "input_img = keras.Input(shape=(28, 28, 1))\n",
        "x = layers.Conv2D(16, (3, 3), activation='relu', padding='same')(input_img)\n",
        "x = layers.MaxPooling2D((2, 2), padding='same')(x)\n",
        "x = layers.Conv2D(8, (3, 3), activation='relu', padding='same')(x)\n",
        "x = layers.MaxPooling2D((2, 2), padding='same')(x)\n",
        "x = layers.Conv2D(8, (3, 3), activation='relu', padding='same')(x)\n",
        "encoded = layers.MaxPooling2D((2, 2), padding='same')(x)"
      ],
      "execution_count": null,
      "outputs": []
    },
    {
      "cell_type": "code",
      "metadata": {
        "id": "_P-bJaZvn-z5"
      },
      "source": [
        "# Decoder\n",
        "x = layers.Conv2D(8, (3, 3), activation='relu', padding='same')(encoded)\n",
        "x = layers.UpSampling2D((2, 2))(x)\n",
        "x = layers.Conv2D(8, (3, 3), activation='relu', padding='same')(x)\n",
        "x = layers.UpSampling2D((2, 2))(x)\n",
        "x = layers.Conv2D(16, (3, 3), activation='relu')(x)\n",
        "x = layers.UpSampling2D((2, 2))(x)\n",
        "decoded = layers.Conv2D(1, (3, 3), activation='sigmoid', padding='same')(x)"
      ],
      "execution_count": null,
      "outputs": []
    },
    {
      "cell_type": "code",
      "metadata": {
        "colab": {
          "base_uri": "https://localhost:8080/"
        },
        "id": "C_ufnjjPoKXo",
        "outputId": "8ef49520-8698-407a-a14c-c253e69acb03"
      },
      "source": [
        "autoencoder = keras.Model(input_img, decoded)\n",
        "autoencoder.compile(optimizer='adam', loss='binary_crossentropy',metrics=['accuracy'])\n",
        "autoencoder.summary()"
      ],
      "execution_count": null,
      "outputs": [
        {
          "output_type": "stream",
          "name": "stdout",
          "text": [
            "Model: \"model\"\n",
            "_________________________________________________________________\n",
            " Layer (type)                Output Shape              Param #   \n",
            "=================================================================\n",
            " input_1 (InputLayer)        [(None, 28, 28, 1)]       0         \n",
            "                                                                 \n",
            " conv2d (Conv2D)             (None, 28, 28, 16)        160       \n",
            "                                                                 \n",
            " max_pooling2d (MaxPooling2D  (None, 14, 14, 16)       0         \n",
            " )                                                               \n",
            "                                                                 \n",
            " conv2d_1 (Conv2D)           (None, 14, 14, 8)         1160      \n",
            "                                                                 \n",
            " max_pooling2d_1 (MaxPooling  (None, 7, 7, 8)          0         \n",
            " 2D)                                                             \n",
            "                                                                 \n",
            " conv2d_2 (Conv2D)           (None, 7, 7, 8)           584       \n",
            "                                                                 \n",
            " max_pooling2d_2 (MaxPooling  (None, 4, 4, 8)          0         \n",
            " 2D)                                                             \n",
            "                                                                 \n",
            " conv2d_3 (Conv2D)           (None, 4, 4, 8)           584       \n",
            "                                                                 \n",
            " up_sampling2d (UpSampling2D  (None, 8, 8, 8)          0         \n",
            " )                                                               \n",
            "                                                                 \n",
            " conv2d_4 (Conv2D)           (None, 8, 8, 8)           584       \n",
            "                                                                 \n",
            " up_sampling2d_1 (UpSampling  (None, 16, 16, 8)        0         \n",
            " 2D)                                                             \n",
            "                                                                 \n",
            " conv2d_5 (Conv2D)           (None, 14, 14, 16)        1168      \n",
            "                                                                 \n",
            " up_sampling2d_2 (UpSampling  (None, 28, 28, 16)       0         \n",
            " 2D)                                                             \n",
            "                                                                 \n",
            " conv2d_6 (Conv2D)           (None, 28, 28, 1)         145       \n",
            "                                                                 \n",
            "=================================================================\n",
            "Total params: 4,385\n",
            "Trainable params: 4,385\n",
            "Non-trainable params: 0\n",
            "_________________________________________________________________\n"
          ]
        }
      ]
    },
    {
      "cell_type": "code",
      "metadata": {
        "colab": {
          "base_uri": "https://localhost:8080/"
        },
        "id": "UG8YE2yqoRTb",
        "outputId": "fc02c28d-3041-4bec-bc21-b288d940aa28"
      },
      "source": [
        "autoencoder = keras.Model(input_img, decoded)\n",
        "autoencoder.compile(optimizer='adam', loss='binary_crossentropy',metrics=['accuracy'])\n",
        "autoencoder.summary()"
      ],
      "execution_count": null,
      "outputs": [
        {
          "output_type": "stream",
          "name": "stdout",
          "text": [
            "Model: \"model_1\"\n",
            "_________________________________________________________________\n",
            " Layer (type)                Output Shape              Param #   \n",
            "=================================================================\n",
            " input_1 (InputLayer)        [(None, 28, 28, 1)]       0         \n",
            "                                                                 \n",
            " conv2d (Conv2D)             (None, 28, 28, 16)        160       \n",
            "                                                                 \n",
            " max_pooling2d (MaxPooling2D  (None, 14, 14, 16)       0         \n",
            " )                                                               \n",
            "                                                                 \n",
            " conv2d_1 (Conv2D)           (None, 14, 14, 8)         1160      \n",
            "                                                                 \n",
            " max_pooling2d_1 (MaxPooling  (None, 7, 7, 8)          0         \n",
            " 2D)                                                             \n",
            "                                                                 \n",
            " conv2d_2 (Conv2D)           (None, 7, 7, 8)           584       \n",
            "                                                                 \n",
            " max_pooling2d_2 (MaxPooling  (None, 4, 4, 8)          0         \n",
            " 2D)                                                             \n",
            "                                                                 \n",
            " conv2d_3 (Conv2D)           (None, 4, 4, 8)           584       \n",
            "                                                                 \n",
            " up_sampling2d (UpSampling2D  (None, 8, 8, 8)          0         \n",
            " )                                                               \n",
            "                                                                 \n",
            " conv2d_4 (Conv2D)           (None, 8, 8, 8)           584       \n",
            "                                                                 \n",
            " up_sampling2d_1 (UpSampling  (None, 16, 16, 8)        0         \n",
            " 2D)                                                             \n",
            "                                                                 \n",
            " conv2d_5 (Conv2D)           (None, 14, 14, 16)        1168      \n",
            "                                                                 \n",
            " up_sampling2d_2 (UpSampling  (None, 28, 28, 16)       0         \n",
            " 2D)                                                             \n",
            "                                                                 \n",
            " conv2d_6 (Conv2D)           (None, 28, 28, 1)         145       \n",
            "                                                                 \n",
            "=================================================================\n",
            "Total params: 4,385\n",
            "Trainable params: 4,385\n",
            "Non-trainable params: 0\n",
            "_________________________________________________________________\n"
          ]
        }
      ]
    },
    {
      "cell_type": "code",
      "metadata": {
        "id": "G6cLqPhsoSEq"
      },
      "source": [
        "from keras.datasets import mnist\n",
        "import numpy as np\n",
        "\n",
        "(x_train, _), (x_test, _) = mnist.load_data()"
      ],
      "execution_count": null,
      "outputs": []
    },
    {
      "cell_type": "code",
      "metadata": {
        "id": "vaBQGe7soWQr"
      },
      "source": [
        "x_train = x_train.astype('float32') / 255.\n",
        "x_test = x_test.astype('float32') / 255.\n",
        "x_train = np.reshape(x_train, (len(x_train), 28, 28, 1))\n",
        "x_test = np.reshape(x_test, (len(x_test), 28, 28, 1))"
      ],
      "execution_count": null,
      "outputs": []
    },
    {
      "cell_type": "code",
      "metadata": {
        "colab": {
          "base_uri": "https://localhost:8080/"
        },
        "id": "d1z1lnIOoYzs",
        "outputId": "71df13f9-1182-4c81-91c8-7b93c1c4daf0"
      },
      "source": [
        "autoencoder.fit(x_train, x_train,\n",
        "                epochs=40, #50,\n",
        "                batch_size=128,\n",
        "                shuffle=True,\n",
        "                validation_data=(x_test, x_test))\n",
        "              "
      ],
      "execution_count": null,
      "outputs": [
        {
          "output_type": "stream",
          "name": "stdout",
          "text": [
            "Epoch 1/40\n",
            "469/469 [==============================] - 14s 14ms/step - loss: 0.2068 - accuracy: 0.7983 - val_loss: 0.1485 - val_accuracy: 0.8016\n",
            "Epoch 2/40\n",
            "469/469 [==============================] - 6s 12ms/step - loss: 0.1364 - accuracy: 0.8049 - val_loss: 0.1258 - val_accuracy: 0.8062\n",
            "Epoch 3/40\n",
            "469/469 [==============================] - 5s 12ms/step - loss: 0.1222 - accuracy: 0.8082 - val_loss: 0.1175 - val_accuracy: 0.8085\n",
            "Epoch 4/40\n",
            "469/469 [==============================] - 6s 12ms/step - loss: 0.1157 - accuracy: 0.8094 - val_loss: 0.1124 - val_accuracy: 0.8095\n",
            "Epoch 5/40\n",
            "469/469 [==============================] - 6s 12ms/step - loss: 0.1118 - accuracy: 0.8102 - val_loss: 0.1090 - val_accuracy: 0.8096\n",
            "Epoch 6/40\n",
            "469/469 [==============================] - 6s 12ms/step - loss: 0.1091 - accuracy: 0.8107 - val_loss: 0.1071 - val_accuracy: 0.8103\n",
            "Epoch 7/40\n",
            "469/469 [==============================] - 6s 12ms/step - loss: 0.1071 - accuracy: 0.8110 - val_loss: 0.1055 - val_accuracy: 0.8107\n",
            "Epoch 8/40\n",
            "469/469 [==============================] - 6s 12ms/step - loss: 0.1055 - accuracy: 0.8113 - val_loss: 0.1041 - val_accuracy: 0.8098\n",
            "Epoch 9/40\n",
            "469/469 [==============================] - 5s 12ms/step - loss: 0.1043 - accuracy: 0.8115 - val_loss: 0.1027 - val_accuracy: 0.8102\n",
            "Epoch 10/40\n",
            "469/469 [==============================] - 5s 12ms/step - loss: 0.1032 - accuracy: 0.8117 - val_loss: 0.1016 - val_accuracy: 0.8114\n",
            "Epoch 11/40\n",
            "469/469 [==============================] - 5s 12ms/step - loss: 0.1021 - accuracy: 0.8119 - val_loss: 0.1007 - val_accuracy: 0.8105\n",
            "Epoch 12/40\n",
            "469/469 [==============================] - 6s 12ms/step - loss: 0.1013 - accuracy: 0.8120 - val_loss: 0.0995 - val_accuracy: 0.8111\n",
            "Epoch 13/40\n",
            "469/469 [==============================] - 5s 12ms/step - loss: 0.1005 - accuracy: 0.8122 - val_loss: 0.0989 - val_accuracy: 0.8115\n",
            "Epoch 14/40\n",
            "469/469 [==============================] - 5s 12ms/step - loss: 0.0998 - accuracy: 0.8123 - val_loss: 0.0985 - val_accuracy: 0.8119\n",
            "Epoch 15/40\n",
            "469/469 [==============================] - 5s 12ms/step - loss: 0.0991 - accuracy: 0.8124 - val_loss: 0.0975 - val_accuracy: 0.8117\n",
            "Epoch 16/40\n",
            "469/469 [==============================] - 6s 12ms/step - loss: 0.0985 - accuracy: 0.8125 - val_loss: 0.0972 - val_accuracy: 0.8118\n",
            "Epoch 17/40\n",
            "469/469 [==============================] - 6s 12ms/step - loss: 0.0980 - accuracy: 0.8126 - val_loss: 0.0973 - val_accuracy: 0.8109\n",
            "Epoch 18/40\n",
            "469/469 [==============================] - 6s 12ms/step - loss: 0.0975 - accuracy: 0.8126 - val_loss: 0.0966 - val_accuracy: 0.8122\n",
            "Epoch 19/40\n",
            "469/469 [==============================] - 6s 12ms/step - loss: 0.0971 - accuracy: 0.8127 - val_loss: 0.0962 - val_accuracy: 0.8113\n",
            "Epoch 20/40\n",
            "469/469 [==============================] - 5s 12ms/step - loss: 0.0966 - accuracy: 0.8128 - val_loss: 0.0955 - val_accuracy: 0.8121\n",
            "Epoch 21/40\n",
            "469/469 [==============================] - 5s 12ms/step - loss: 0.0962 - accuracy: 0.8128 - val_loss: 0.0947 - val_accuracy: 0.8120\n",
            "Epoch 22/40\n",
            "469/469 [==============================] - 6s 12ms/step - loss: 0.0959 - accuracy: 0.8129 - val_loss: 0.0946 - val_accuracy: 0.8116\n",
            "Epoch 23/40\n",
            "469/469 [==============================] - 6s 12ms/step - loss: 0.0956 - accuracy: 0.8129 - val_loss: 0.0943 - val_accuracy: 0.8122\n",
            "Epoch 24/40\n",
            "469/469 [==============================] - 6s 12ms/step - loss: 0.0953 - accuracy: 0.8130 - val_loss: 0.0939 - val_accuracy: 0.8119\n",
            "Epoch 25/40\n",
            "469/469 [==============================] - 6s 12ms/step - loss: 0.0950 - accuracy: 0.8130 - val_loss: 0.0937 - val_accuracy: 0.8121\n",
            "Epoch 26/40\n",
            "469/469 [==============================] - 6s 12ms/step - loss: 0.0947 - accuracy: 0.8130 - val_loss: 0.0937 - val_accuracy: 0.8118\n",
            "Epoch 27/40\n",
            "469/469 [==============================] - 6s 12ms/step - loss: 0.0945 - accuracy: 0.8131 - val_loss: 0.0932 - val_accuracy: 0.8119\n",
            "Epoch 28/40\n",
            "469/469 [==============================] - 6s 12ms/step - loss: 0.0942 - accuracy: 0.8131 - val_loss: 0.0935 - val_accuracy: 0.8127\n",
            "Epoch 29/40\n",
            "469/469 [==============================] - 6s 12ms/step - loss: 0.0940 - accuracy: 0.8132 - val_loss: 0.0934 - val_accuracy: 0.8126\n",
            "Epoch 30/40\n",
            "469/469 [==============================] - 6s 12ms/step - loss: 0.0939 - accuracy: 0.8132 - val_loss: 0.0926 - val_accuracy: 0.8123\n",
            "Epoch 31/40\n",
            "469/469 [==============================] - 6s 12ms/step - loss: 0.0936 - accuracy: 0.8132 - val_loss: 0.0928 - val_accuracy: 0.8126\n",
            "Epoch 32/40\n",
            "469/469 [==============================] - 6s 12ms/step - loss: 0.0935 - accuracy: 0.8132 - val_loss: 0.0924 - val_accuracy: 0.8124\n",
            "Epoch 33/40\n",
            "469/469 [==============================] - 6s 12ms/step - loss: 0.0933 - accuracy: 0.8132 - val_loss: 0.0927 - val_accuracy: 0.8118\n",
            "Epoch 34/40\n",
            "469/469 [==============================] - 6s 12ms/step - loss: 0.0932 - accuracy: 0.8133 - val_loss: 0.0927 - val_accuracy: 0.8126\n",
            "Epoch 35/40\n",
            "469/469 [==============================] - 6s 12ms/step - loss: 0.0930 - accuracy: 0.8133 - val_loss: 0.0923 - val_accuracy: 0.8119\n",
            "Epoch 36/40\n",
            "469/469 [==============================] - 6s 12ms/step - loss: 0.0929 - accuracy: 0.8133 - val_loss: 0.0920 - val_accuracy: 0.8127\n",
            "Epoch 37/40\n",
            "469/469 [==============================] - 6s 12ms/step - loss: 0.0927 - accuracy: 0.8133 - val_loss: 0.0922 - val_accuracy: 0.8128\n",
            "Epoch 38/40\n",
            "469/469 [==============================] - 6s 13ms/step - loss: 0.0926 - accuracy: 0.8133 - val_loss: 0.0915 - val_accuracy: 0.8122\n",
            "Epoch 39/40\n",
            "469/469 [==============================] - 6s 13ms/step - loss: 0.0925 - accuracy: 0.8134 - val_loss: 0.0912 - val_accuracy: 0.8126\n",
            "Epoch 40/40\n",
            "469/469 [==============================] - 6s 13ms/step - loss: 0.0924 - accuracy: 0.8134 - val_loss: 0.0913 - val_accuracy: 0.8125\n"
          ]
        },
        {
          "output_type": "execute_result",
          "data": {
            "text/plain": [
              "<keras.callbacks.History at 0x7f7f3f256210>"
            ]
          },
          "metadata": {},
          "execution_count": 8
        }
      ]
    },
    {
      "cell_type": "code",
      "metadata": {
        "id": "XJ0oUxm3oe0O"
      },
      "source": [
        "encoder = keras.Model(input_img, encoded)\n",
        "encoded_img=encoder.predict(x_test[:20])\n"
      ],
      "execution_count": null,
      "outputs": []
    },
    {
      "cell_type": "code",
      "metadata": {
        "colab": {
          "base_uri": "https://localhost:8080/"
        },
        "id": "OUp6v6QopOAE",
        "outputId": "21c0b8b8-826d-4c49-f4b9-8988bf170c40"
      },
      "source": [
        "encoder.summary()"
      ],
      "execution_count": null,
      "outputs": [
        {
          "output_type": "stream",
          "name": "stdout",
          "text": [
            "Model: \"model_3\"\n",
            "_________________________________________________________________\n",
            " Layer (type)                Output Shape              Param #   \n",
            "=================================================================\n",
            " input_1 (InputLayer)        [(None, 28, 28, 1)]       0         \n",
            "                                                                 \n",
            " conv2d (Conv2D)             (None, 28, 28, 16)        160       \n",
            "                                                                 \n",
            " max_pooling2d (MaxPooling2D  (None, 14, 14, 16)       0         \n",
            " )                                                               \n",
            "                                                                 \n",
            " conv2d_1 (Conv2D)           (None, 14, 14, 8)         1160      \n",
            "                                                                 \n",
            " max_pooling2d_1 (MaxPooling  (None, 7, 7, 8)          0         \n",
            " 2D)                                                             \n",
            "                                                                 \n",
            " conv2d_2 (Conv2D)           (None, 7, 7, 8)           584       \n",
            "                                                                 \n",
            " max_pooling2d_2 (MaxPooling  (None, 4, 4, 8)          0         \n",
            " 2D)                                                             \n",
            "                                                                 \n",
            "=================================================================\n",
            "Total params: 1,904\n",
            "Trainable params: 1,904\n",
            "Non-trainable params: 0\n",
            "_________________________________________________________________\n"
          ]
        }
      ]
    },
    {
      "cell_type": "code",
      "metadata": {
        "id": "FfjlSm0Dosjz"
      },
      "source": [
        "input=keras.layers.Input(shape=encoded_img.shape[1:])\n",
        "x = autoencoder.layers[-7](input)\n",
        "x = autoencoder.layers[-6](x)\n",
        "x = autoencoder.layers[-5](x)\n",
        "x = autoencoder.layers[-4](x)\n",
        "x = autoencoder.layers[-3](x)\n",
        "x = autoencoder.layers[-2](x)\n",
        "decoded = autoencoder.layers[-1](x)\n",
        "decoder = keras.Model(input, decoded)"
      ],
      "execution_count": null,
      "outputs": []
    },
    {
      "cell_type": "code",
      "metadata": {
        "colab": {
          "base_uri": "https://localhost:8080/"
        },
        "id": "pNGmqy_nqlBW",
        "outputId": "5dbf8105-7da5-40aa-b353-789d067157be"
      },
      "source": [
        "decoder.summary()"
      ],
      "execution_count": null,
      "outputs": [
        {
          "output_type": "stream",
          "name": "stdout",
          "text": [
            "Model: \"model_4\"\n",
            "_________________________________________________________________\n",
            " Layer (type)                Output Shape              Param #   \n",
            "=================================================================\n",
            " input_2 (InputLayer)        [(None, 4, 4, 8)]         0         \n",
            "                                                                 \n",
            " conv2d_3 (Conv2D)           (None, 4, 4, 8)           584       \n",
            "                                                                 \n",
            " up_sampling2d (UpSampling2D  (None, 8, 8, 8)          0         \n",
            " )                                                               \n",
            "                                                                 \n",
            " conv2d_4 (Conv2D)           (None, 8, 8, 8)           584       \n",
            "                                                                 \n",
            " up_sampling2d_1 (UpSampling  (None, 16, 16, 8)        0         \n",
            " 2D)                                                             \n",
            "                                                                 \n",
            " conv2d_5 (Conv2D)           (None, 14, 14, 16)        1168      \n",
            "                                                                 \n",
            " up_sampling2d_2 (UpSampling  (None, 28, 28, 16)       0         \n",
            " 2D)                                                             \n",
            "                                                                 \n",
            " conv2d_6 (Conv2D)           (None, 28, 28, 1)         145       \n",
            "                                                                 \n",
            "=================================================================\n",
            "Total params: 2,481\n",
            "Trainable params: 2,481\n",
            "Non-trainable params: 0\n",
            "_________________________________________________________________\n"
          ]
        }
      ]
    },
    {
      "cell_type": "code",
      "metadata": {
        "id": "HKALfyltrrNt"
      },
      "source": [
        "encoded_img=encoder.predict(x_test[:20])\n",
        "decoded_img=decoder.predict(encoded_img)"
      ],
      "execution_count": null,
      "outputs": []
    },
    {
      "cell_type": "code",
      "metadata": {
        "colab": {
          "base_uri": "https://localhost:8080/"
        },
        "id": "qjlvZxeKslbh",
        "outputId": "94eb0e18-de11-4199-fa82-4d8002741603"
      },
      "source": [
        "decoded_img.shape"
      ],
      "execution_count": null,
      "outputs": [
        {
          "output_type": "execute_result",
          "data": {
            "text/plain": [
              "(20, 28, 28, 1)"
            ]
          },
          "metadata": {},
          "execution_count": 17
        }
      ]
    },
    {
      "cell_type": "code",
      "metadata": {
        "colab": {
          "base_uri": "https://localhost:8080/",
          "height": 263
        },
        "id": "Po3U6ul1sn3c",
        "outputId": "fd25f889-f140-4aef-cbff-2e9dff0686a6"
      },
      "source": [
        "import matplotlib.pyplot as plt\n",
        "\n",
        "n = 10\n",
        "plt.figure(figsize=(20, 4))\n",
        "for i in range(1, n + 1):\n",
        "    # Display original\n",
        "    ax = plt.subplot(2, n, i)\n",
        "    plt.imshow(x_test[i].reshape(28, 28))\n",
        "    # Display reconstruction\n",
        "    ax = plt.subplot(2, n, i + n)\n",
        "    plt.imshow(decoded_img[i].reshape(28, 28))\n",
        "plt.show()"
      ],
      "execution_count": null,
      "outputs": [
        {
          "output_type": "display_data",
          "data": {
            "image/png": "[encoded data removed]",
            "text/plain": [
              "<Figure size 1440x288 with 20 Axes>"
            ]
          },
          "metadata": {
            "needs_background": "light"
          }
        }
      ]
    },
    {
      "cell_type": "code",
      "metadata": {
        "colab": {
          "base_uri": "https://localhost:8080/",
          "height": 1000
        },
        "id": "TK2EJF7I3YW6",
        "outputId": "58c88f43-9536-4f7b-8079-6528fbd67741"
      },
      "source": [
        "for img in encoded_img:\n",
        "    plt.imshow(img[:,:,6].reshape(4, 4))\n",
        "    plt.show()"
      ],
      "execution_count": null,
      "outputs": [
        {
          "output_type": "display_data",
          "data": {
            "image/png": "[encoded data removed]",
            "text/plain": [
              "<Figure size 432x288 with 1 Axes>"
            ]
          },
          "metadata": {
            "needs_background": "light"
          }
        },
        {
          "output_type": "display_data",
          "data": {
            "image/png": "[encoded data removed]",
            "text/plain": [
              "<Figure size 432x288 with 1 Axes>"
            ]
          },
          "metadata": {
            "needs_background": "light"
          }
        },
        {
          "output_type": "display_data",
          "data": {
            "image/png": "[encoded data removed]",
            "text/plain": [
              "<Figure size 432x288 with 1 Axes>"
            ]
          },
          "metadata": {
            "needs_background": "light"
          }
        },
        {
          "output_type": "display_data",
          "data": {
            "image/png": "[encoded data removed]",
            "text/plain": [
              "<Figure size 432x288 with 1 Axes>"
            ]
          },
          "metadata": {
            "needs_background": "light"
          }
        },
        {
          "output_type": "display_data",
          "data": {
            "image/png": "[encoded data removed]",
            "text/plain": [
              "<Figure size 432x288 with 1 Axes>"
            ]
          },
          "metadata": {
            "needs_background": "light"
          }
        },
        {
          "output_type": "display_data",
          "data": {
            "image/png": "[encoded data removed]",
            "text/plain": [
              "<Figure size 432x288 with 1 Axes>"
            ]
          },
          "metadata": {
            "needs_background": "light"
          }
        },
        {
          "output_type": "display_data",
          "data": {
            "image/png": "[encoded data removed]",
            "text/plain": [
              "<Figure size 432x288 with 1 Axes>"
            ]
          },
          "metadata": {
            "needs_background": "light"
          }
        },
        {
          "output_type": "display_data",
          "data": {
            "image/png": "[encoded data removed]",
            "text/plain": [
              "<Figure size 432x288 with 1 Axes>"
            ]
          },
          "metadata": {
            "needs_background": "light"
          }
        },
        {
          "output_type": "display_data",
          "data": {
            "image/png": "[encoded data removed]",
            "text/plain": [
              "<Figure size 432x288 with 1 Axes>"
            ]
          },
          "metadata": {
            "needs_background": "light"
          }
        },
        {
          "output_type": "display_data",
          "data": {
            "image/png": "[encoded data removed]",
            "text/plain": [
              "<Figure size 432x288 with 1 Axes>"
            ]
          },
          "metadata": {
            "needs_background": "light"
          }
        },
        {
          "output_type": "display_data",
          "data": {
            "image/png": "[encoded data removed]",
            "text/plain": [
              "<Figure size 432x288 with 1 Axes>"
            ]
          },
          "metadata": {
            "needs_background": "light"
          }
        },
        {
          "output_type": "display_data",
          "data": {
            "image/png": "[encoded data removed]",
            "text/plain": [
              "<Figure size 432x288 with 1 Axes>"
            ]
          },
          "metadata": {
            "needs_background": "light"
          }
        },
        {
          "output_type": "display_data",
          "data": {
            "image/png": "[encoded data removed]",
            "text/plain": [
              "<Figure size 432x288 with 1 Axes>"
            ]
          },
          "metadata": {
            "needs_background": "light"
          }
        },
        {
          "output_type": "display_data",
          "data": {
            "image/png": "[encoded data removed]",
            "text/plain": [
              "<Figure size 432x288 with 1 Axes>"
            ]
          },
          "metadata": {
            "needs_background": "light"
          }
        },
        {
          "output_type": "display_data",
          "data": {
            "image/png": "[encoded data removed]",
            "text/plain": [
              "<Figure size 432x288 with 1 Axes>"
            ]
          },
          "metadata": {
            "needs_background": "light"
          }
        },
        {
          "output_type": "display_data",
          "data": {
            "image/png": "[encoded data removed]",
            "text/plain": [
              "<Figure size 432x288 with 1 Axes>"
            ]
          },
          "metadata": {
            "needs_background": "light"
          }
        },
        {
          "output_type": "display_data",
          "data": {
            "image/png": "[encoded data removed]",
            "text/plain": [
              "<Figure size 432x288 with 1 Axes>"
            ]
          },
          "metadata": {
            "needs_background": "light"
          }
        },
        {
          "output_type": "display_data",
          "data": {
            "image/png": "[encoded data removed]",
            "text/plain": [
              "<Figure size 432x288 with 1 Axes>"
            ]
          },
          "metadata": {
            "needs_background": "light"
          }
        },
        {
          "output_type": "display_data",
          "data": {
            "image/png": "[encoded data removed]",
            "text/plain": [
              "<Figure size 432x288 with 1 Axes>"
            ]
          },
          "metadata": {
            "needs_background": "light"
          }
        },
        {
          "output_type": "display_data",
          "data": {
            "image/png": "[encoded data removed]",
            "text/plain": [
              "<Figure size 432x288 with 1 Axes>"
            ]
          },
          "metadata": {
            "needs_background": "light"
          }
        }
      ]
    },
    {
      "cell_type": "code",
      "metadata": {
        "id": "doz4r0sOs2Vp"
      },
      "source": [
        "# model 2\n",
        "# Encoder\n",
        "input_img = keras.Input(shape=(28, 28, 1))\n",
        "x = layers.Conv2D(16, (16, 16), activation='relu', padding='same')(input_img)\n",
        "x = layers.MaxPooling2D((2, 2), padding='same')(x)\n",
        "x = layers.Conv2D(32, (8, 8), activation='relu', padding='same')(x)\n",
        "x = layers.MaxPooling2D((2, 2), padding='same')(x)\n",
        "x = layers.Conv2D(64, (4, 4), activation='relu', padding='same')(x)\n",
        "encoded = layers.MaxPooling2D((2, 2), padding='same')(x)\n",
        "# Decoder\n",
        "x = layers.Conv2D(64, (4, 4), activation='relu', padding='same')(encoded)\n",
        "x = layers.Conv2DTranspose(64,5)(x)\n",
        "x = layers.Conv2D(32, (8, 8), activation='relu', padding='same')(x)\n",
        "x = layers.Conv2DTranspose(32,8)(x)\n",
        "x = layers.Conv2D(16, (3, 3), activation='relu')(x)\n",
        "x = layers.Conv2DTranspose(16,16)(x)\n",
        "decoded = layers.Conv2D(1, (3, 3), activation='sigmoid', padding='same')(x)"
      ],
      "execution_count": null,
      "outputs": []
    },
    {
      "cell_type": "code",
      "metadata": {
        "colab": {
          "base_uri": "https://localhost:8080/"
        },
        "id": "PzGEJvacvDgA",
        "outputId": "e4e251ae-fd35-4c58-a092-56d2a48b5912"
      },
      "source": [
        "autoencoder = keras.Model(input_img, decoded)\n",
        "autoencoder.compile(optimizer='adam', loss='binary_crossentropy',metrics=['accuracy'])\n",
        "autoencoder.summary()"
      ],
      "execution_count": null,
      "outputs": [
        {
          "output_type": "stream",
          "name": "stdout",
          "text": [
            "Model: \"model_5\"\n",
            "_________________________________________________________________\n",
            " Layer (type)                Output Shape              Param #   \n",
            "=================================================================\n",
            " input_3 (InputLayer)        [(None, 28, 28, 1)]       0         \n",
            "                                                                 \n",
            " conv2d_7 (Conv2D)           (None, 28, 28, 16)        4112      \n",
            "                                                                 \n",
            " max_pooling2d_3 (MaxPooling  (None, 14, 14, 16)       0         \n",
            " 2D)                                                             \n",
            "                                                                 \n",
            " conv2d_8 (Conv2D)           (None, 14, 14, 32)        32800     \n",
            "                                                                 \n",
            " max_pooling2d_4 (MaxPooling  (None, 7, 7, 32)         0         \n",
            " 2D)                                                             \n",
            "                                                                 \n",
            " conv2d_9 (Conv2D)           (None, 7, 7, 64)          32832     \n",
            "                                                                 \n",
            " max_pooling2d_5 (MaxPooling  (None, 4, 4, 64)         0         \n",
            " 2D)                                                             \n",
            "                                                                 \n",
            " conv2d_10 (Conv2D)          (None, 4, 4, 64)          65600     \n",
            "                                                                 \n",
            " conv2d_transpose (Conv2DTra  (None, 8, 8, 64)         102464    \n",
            " nspose)                                                         \n",
            "                                                                 \n",
            " conv2d_11 (Conv2D)          (None, 8, 8, 32)          131104    \n",
            "                                                                 \n",
            " conv2d_transpose_1 (Conv2DT  (None, 15, 15, 32)       65568     \n",
            " ranspose)                                                       \n",
            "                                                                 \n",
            " conv2d_12 (Conv2D)          (None, 13, 13, 16)        4624      \n",
            "                                                                 \n",
            " conv2d_transpose_2 (Conv2DT  (None, 28, 28, 16)       65552     \n",
            " ranspose)                                                       \n",
            "                                                                 \n",
            " conv2d_13 (Conv2D)          (None, 28, 28, 1)         145       \n",
            "                                                                 \n",
            "=================================================================\n",
            "Total params: 504,801\n",
            "Trainable params: 504,801\n",
            "Non-trainable params: 0\n",
            "_________________________________________________________________\n"
          ]
        }
      ]
    },
    {
      "cell_type": "code",
      "metadata": {
        "colab": {
          "base_uri": "https://localhost:8080/"
        },
        "id": "SBfH4t5cvfdn",
        "outputId": "d11e220b-2a9e-4d69-985f-49f80982f0c7"
      },
      "source": [
        "autoencoder = keras.Model(input_img, decoded)\n",
        "autoencoder.compile(optimizer='adam', loss='binary_crossentropy',metrics=['accuracy'])\n",
        "autoencoder.summary()"
      ],
      "execution_count": null,
      "outputs": [
        {
          "output_type": "stream",
          "name": "stdout",
          "text": [
            "Model: \"model_6\"\n",
            "_________________________________________________________________\n",
            " Layer (type)                Output Shape              Param #   \n",
            "=================================================================\n",
            " input_3 (InputLayer)        [(None, 28, 28, 1)]       0         \n",
            "                                                                 \n",
            " conv2d_7 (Conv2D)           (None, 28, 28, 16)        4112      \n",
            "                                                                 \n",
            " max_pooling2d_3 (MaxPooling  (None, 14, 14, 16)       0         \n",
            " 2D)                                                             \n",
            "                                                                 \n",
            " conv2d_8 (Conv2D)           (None, 14, 14, 32)        32800     \n",
            "                                                                 \n",
            " max_pooling2d_4 (MaxPooling  (None, 7, 7, 32)         0         \n",
            " 2D)                                                             \n",
            "                                                                 \n",
            " conv2d_9 (Conv2D)           (None, 7, 7, 64)          32832     \n",
            "                                                                 \n",
            " max_pooling2d_5 (MaxPooling  (None, 4, 4, 64)         0         \n",
            " 2D)                                                             \n",
            "                                                                 \n",
            " conv2d_10 (Conv2D)          (None, 4, 4, 64)          65600     \n",
            "                                                                 \n",
            " conv2d_transpose (Conv2DTra  (None, 8, 8, 64)         102464    \n",
            " nspose)                                                         \n",
            "                                                                 \n",
            " conv2d_11 (Conv2D)          (None, 8, 8, 32)          131104    \n",
            "                                                                 \n",
            " conv2d_transpose_1 (Conv2DT  (None, 15, 15, 32)       65568     \n",
            " ranspose)                                                       \n",
            "                                                                 \n",
            " conv2d_12 (Conv2D)          (None, 13, 13, 16)        4624      \n",
            "                                                                 \n",
            " conv2d_transpose_2 (Conv2DT  (None, 28, 28, 16)       65552     \n",
            " ranspose)                                                       \n",
            "                                                                 \n",
            " conv2d_13 (Conv2D)          (None, 28, 28, 1)         145       \n",
            "                                                                 \n",
            "=================================================================\n",
            "Total params: 504,801\n",
            "Trainable params: 504,801\n",
            "Non-trainable params: 0\n",
            "_________________________________________________________________\n"
          ]
        }
      ]
    },
    {
      "cell_type": "code",
      "metadata": {
        "colab": {
          "base_uri": "https://localhost:8080/"
        },
        "id": "9mtWBn6xxqlg",
        "outputId": "d708b9ff-8c02-46e7-c5c2-261ad9a11065"
      },
      "source": [
        "autoencoder.fit(x_train, x_train,\n",
        "                epochs=40, #50,\n",
        "                batch_size=128,\n",
        "                shuffle=True,\n",
        "                validation_data=(x_test, x_test))\n",
        "              "
      ],
      "execution_count": null,
      "outputs": [
        {
          "output_type": "stream",
          "name": "stdout",
          "text": [
            "Epoch 1/40\n",
            "469/469 [==============================] - 16s 32ms/step - loss: 0.1880 - accuracy: 0.8003 - val_loss: 0.1211 - val_accuracy: 0.8099\n",
            "Epoch 2/40\n",
            "469/469 [==============================] - 14s 30ms/step - loss: 0.1075 - accuracy: 0.8118 - val_loss: 0.0960 - val_accuracy: 0.8127\n",
            "Epoch 3/40\n",
            "469/469 [==============================] - 14s 30ms/step - loss: 0.0931 - accuracy: 0.8136 - val_loss: 0.0874 - val_accuracy: 0.8133\n",
            "Epoch 4/40\n",
            "469/469 [==============================] - 14s 31ms/step - loss: 0.0867 - accuracy: 0.8143 - val_loss: 0.0832 - val_accuracy: 0.8135\n",
            "Epoch 5/40\n",
            "469/469 [==============================] - 14s 30ms/step - loss: 0.0828 - accuracy: 0.8146 - val_loss: 0.0816 - val_accuracy: 0.8136\n",
            "Epoch 6/40\n",
            "469/469 [==============================] - 14s 30ms/step - loss: 0.0805 - accuracy: 0.8148 - val_loss: 0.0780 - val_accuracy: 0.8140\n",
            "Epoch 7/40\n",
            "469/469 [==============================] - 14s 30ms/step - loss: 0.0786 - accuracy: 0.8149 - val_loss: 0.0767 - val_accuracy: 0.8140\n",
            "Epoch 8/40\n",
            "469/469 [==============================] - 14s 30ms/step - loss: 0.0772 - accuracy: 0.8150 - val_loss: 0.0759 - val_accuracy: 0.8141\n",
            "Epoch 9/40\n",
            "469/469 [==============================] - 14s 30ms/step - loss: 0.0761 - accuracy: 0.8151 - val_loss: 0.0745 - val_accuracy: 0.8142\n",
            "Epoch 10/40\n",
            "469/469 [==============================] - 14s 30ms/step - loss: 0.0752 - accuracy: 0.8152 - val_loss: 0.0743 - val_accuracy: 0.8142\n",
            "Epoch 11/40\n",
            "469/469 [==============================] - 14s 30ms/step - loss: 0.0744 - accuracy: 0.8152 - val_loss: 0.0739 - val_accuracy: 0.8142\n",
            "Epoch 12/40\n",
            "469/469 [==============================] - 14s 30ms/step - loss: 0.0736 - accuracy: 0.8152 - val_loss: 0.0736 - val_accuracy: 0.8143\n",
            "Epoch 13/40\n",
            "469/469 [==============================] - 14s 31ms/step - loss: 0.0731 - accuracy: 0.8153 - val_loss: 0.0723 - val_accuracy: 0.8143\n",
            "Epoch 14/40\n",
            "469/469 [==============================] - 14s 30ms/step - loss: 0.0725 - accuracy: 0.8153 - val_loss: 0.0714 - val_accuracy: 0.8143\n",
            "Epoch 15/40\n",
            "469/469 [==============================] - 14s 30ms/step - loss: 0.0721 - accuracy: 0.8153 - val_loss: 0.0733 - val_accuracy: 0.8143\n",
            "Epoch 16/40\n",
            "469/469 [==============================] - 14s 30ms/step - loss: 0.0717 - accuracy: 0.8153 - val_loss: 0.0712 - val_accuracy: 0.8143\n",
            "Epoch 17/40\n",
            "469/469 [==============================] - 14s 30ms/step - loss: 0.0713 - accuracy: 0.8153 - val_loss: 0.0703 - val_accuracy: 0.8144\n",
            "Epoch 18/40\n",
            "469/469 [==============================] - 15s 31ms/step - loss: 0.0710 - accuracy: 0.8153 - val_loss: 0.0705 - val_accuracy: 0.8144\n",
            "Epoch 19/40\n",
            "469/469 [==============================] - 14s 30ms/step - loss: 0.0707 - accuracy: 0.8154 - val_loss: 0.0697 - val_accuracy: 0.8144\n",
            "Epoch 20/40\n",
            "469/469 [==============================] - 14s 30ms/step - loss: 0.0704 - accuracy: 0.8154 - val_loss: 0.0705 - val_accuracy: 0.8144\n",
            "Epoch 21/40\n",
            "469/469 [==============================] - 14s 30ms/step - loss: 0.0702 - accuracy: 0.8154 - val_loss: 0.0698 - val_accuracy: 0.8144\n",
            "Epoch 22/40\n",
            "469/469 [==============================] - 14s 30ms/step - loss: 0.0699 - accuracy: 0.8154 - val_loss: 0.0695 - val_accuracy: 0.8144\n",
            "Epoch 23/40\n",
            "469/469 [==============================] - 14s 30ms/step - loss: 0.0696 - accuracy: 0.8154 - val_loss: 0.0692 - val_accuracy: 0.8144\n",
            "Epoch 24/40\n",
            "469/469 [==============================] - 14s 30ms/step - loss: 0.0694 - accuracy: 0.8154 - val_loss: 0.0692 - val_accuracy: 0.8144\n",
            "Epoch 25/40\n",
            "469/469 [==============================] - 14s 30ms/step - loss: 0.0693 - accuracy: 0.8154 - val_loss: 0.0688 - val_accuracy: 0.8144\n",
            "Epoch 26/40\n",
            "469/469 [==============================] - 14s 31ms/step - loss: 0.0691 - accuracy: 0.8154 - val_loss: 0.0687 - val_accuracy: 0.8144\n",
            "Epoch 27/40\n",
            "469/469 [==============================] - 14s 30ms/step - loss: 0.0689 - accuracy: 0.8154 - val_loss: 0.0691 - val_accuracy: 0.8144\n",
            "Epoch 28/40\n",
            "469/469 [==============================] - 15s 31ms/step - loss: 0.0688 - accuracy: 0.8154 - val_loss: 0.0689 - val_accuracy: 0.8144\n",
            "Epoch 29/40\n",
            "469/469 [==============================] - 14s 30ms/step - loss: 0.0686 - accuracy: 0.8154 - val_loss: 0.0687 - val_accuracy: 0.8144\n",
            "Epoch 30/40\n",
            "469/469 [==============================] - 15s 31ms/step - loss: 0.0684 - accuracy: 0.8154 - val_loss: 0.0681 - val_accuracy: 0.8144\n",
            "Epoch 31/40\n",
            "469/469 [==============================] - 14s 31ms/step - loss: 0.0683 - accuracy: 0.8154 - val_loss: 0.0681 - val_accuracy: 0.8144\n",
            "Epoch 32/40\n",
            "469/469 [==============================] - 14s 31ms/step - loss: 0.0682 - accuracy: 0.8154 - val_loss: 0.0679 - val_accuracy: 0.8144\n",
            "Epoch 33/40\n",
            "469/469 [==============================] - 15s 31ms/step - loss: 0.0681 - accuracy: 0.8154 - val_loss: 0.0678 - val_accuracy: 0.8144\n",
            "Epoch 34/40\n",
            "469/469 [==============================] - 14s 31ms/step - loss: 0.0680 - accuracy: 0.8154 - val_loss: 0.0677 - val_accuracy: 0.8144\n",
            "Epoch 35/40\n",
            "469/469 [==============================] - 14s 31ms/step - loss: 0.0679 - accuracy: 0.8154 - val_loss: 0.0681 - val_accuracy: 0.8144\n",
            "Epoch 36/40\n",
            "469/469 [==============================] - 14s 31ms/step - loss: 0.0677 - accuracy: 0.8154 - val_loss: 0.0674 - val_accuracy: 0.8144\n",
            "Epoch 37/40\n",
            "469/469 [==============================] - 15s 31ms/step - loss: 0.0676 - accuracy: 0.8154 - val_loss: 0.0674 - val_accuracy: 0.8144\n",
            "Epoch 38/40\n",
            "469/469 [==============================] - 14s 31ms/step - loss: 0.0675 - accuracy: 0.8154 - val_loss: 0.0673 - val_accuracy: 0.8144\n",
            "Epoch 39/40\n",
            "469/469 [==============================] - 14s 31ms/step - loss: 0.0675 - accuracy: 0.8154 - val_loss: 0.0678 - val_accuracy: 0.8144\n",
            "Epoch 40/40\n",
            "469/469 [==============================] - 14s 31ms/step - loss: 0.0673 - accuracy: 0.8154 - val_loss: 0.0673 - val_accuracy: 0.8144\n"
          ]
        },
        {
          "output_type": "execute_result",
          "data": {
            "text/plain": [
              "<keras.callbacks.History at 0x7f7f3c1a5fd0>"
            ]
          },
          "metadata": {},
          "execution_count": 23
        }
      ]
    },
    {
      "cell_type": "code",
      "metadata": {
        "id": "kaRPyH0q1Qa8"
      },
      "source": [
        "encoder = keras.Model(input_img, encoded)\n",
        "encoded_imgs=encoder.predict(x_test[:3])"
      ],
      "execution_count": null,
      "outputs": []
    },
    {
      "cell_type": "code",
      "metadata": {
        "colab": {
          "base_uri": "https://localhost:8080/"
        },
        "id": "pW-RLze7x0Qw",
        "outputId": "61501e3b-5ebe-4fb7-8d3f-8ae5993b9319"
      },
      "source": [
        "input=keras.layers.Input(shape=encoded_imgs.shape[1:])\n",
        "x = autoencoder.layers[-7](input)\n",
        "x = autoencoder.layers[-6](x)\n",
        "x = autoencoder.layers[-5](x)\n",
        "x = autoencoder.layers[-4](x)\n",
        "x = autoencoder.layers[-3](x)\n",
        "x = autoencoder.layers[-2](x)\n",
        "decoded = autoencoder.layers[-1](x)\n",
        "decoder = keras.Model(input, decoded)\n",
        "decoder.summary()"
      ],
      "execution_count": null,
      "outputs": [
        {
          "output_type": "stream",
          "name": "stdout",
          "text": [
            "Model: \"model_8\"\n",
            "_________________________________________________________________\n",
            " Layer (type)                Output Shape              Param #   \n",
            "=================================================================\n",
            " input_4 (InputLayer)        [(None, 4, 4, 64)]        0         \n",
            "                                                                 \n",
            " conv2d_10 (Conv2D)          (None, 4, 4, 64)          65600     \n",
            "                                                                 \n",
            " conv2d_transpose (Conv2DTra  (None, 8, 8, 64)         102464    \n",
            " nspose)                                                         \n",
            "                                                                 \n",
            " conv2d_11 (Conv2D)          (None, 8, 8, 32)          131104    \n",
            "                                                                 \n",
            " conv2d_transpose_1 (Conv2DT  (None, 15, 15, 32)       65568     \n",
            " ranspose)                                                       \n",
            "                                                                 \n",
            " conv2d_12 (Conv2D)          (None, 13, 13, 16)        4624      \n",
            "                                                                 \n",
            " conv2d_transpose_2 (Conv2DT  (None, 28, 28, 16)       65552     \n",
            " ranspose)                                                       \n",
            "                                                                 \n",
            " conv2d_13 (Conv2D)          (None, 28, 28, 1)         145       \n",
            "                                                                 \n",
            "=================================================================\n",
            "Total params: 435,057\n",
            "Trainable params: 435,057\n",
            "Non-trainable params: 0\n",
            "_________________________________________________________________\n"
          ]
        }
      ]
    },
    {
      "cell_type": "code",
      "metadata": {
        "colab": {
          "base_uri": "https://localhost:8080/",
          "height": 263
        },
        "id": "GhG6VNh4yIvu",
        "outputId": "481c9f3b-63a2-49dd-c992-609a2166dc0a"
      },
      "source": [
        "encoded_img=encoder.predict(x_test[:20])\n",
        "decoded_img=decoder.predict(encoded_img)\n",
        "import matplotlib.pyplot as plt\n",
        "\n",
        "n = 10\n",
        "plt.figure(figsize=(20, 4))\n",
        "for i in range(1, n + 1):\n",
        "    # Display original\n",
        "    ax = plt.subplot(2, n, i)\n",
        "    plt.imshow(x_test[i].reshape(28, 28))\n",
        "    plt.gray()\n",
        "    # Display reconstruction\n",
        "    ax = plt.subplot(2, n, i + n)\n",
        "    plt.imshow(decoded_img[i].reshape(28, 28))\n",
        "    plt.gray()\n",
        "\n",
        "plt.show()"
      ],
      "execution_count": null,
      "outputs": [
        {
          "output_type": "display_data",
          "data": {
            "image/png": "[encoded data removed]",
            "text/plain": [
              "<Figure size 1440x288 with 20 Axes>"
            ]
          },
          "metadata": {
            "needs_background": "light"
          }
        }
      ]
    },
    {
      "cell_type": "code",
      "metadata": {
        "colab": {
          "base_uri": "https://localhost:8080/"
        },
        "id": "hPHC5v8Ky4FU",
        "outputId": "6a861be6-928f-4dd4-fd55-db16e470f873"
      },
      "source": [
        "encoded_img.shape"
      ],
      "execution_count": null,
      "outputs": [
        {
          "output_type": "execute_result",
          "data": {
            "text/plain": [
              "(20, 4, 4, 64)"
            ]
          },
          "metadata": {},
          "execution_count": 27
        }
      ]
    },
    {
      "cell_type": "code",
      "metadata": {
        "colab": {
          "base_uri": "https://localhost:8080/",
          "height": 97
        },
        "id": "AHNJtYKh3m09",
        "outputId": "283ed29b-b23a-45bb-9674-2dd1e2a200dc"
      },
      "source": [
        "n = 19\n",
        "plt.figure(figsize=(20, 4))\n",
        "for i in range(1, n + 1):\n",
        "    ax = plt.subplot(2, n, i)\n",
        "    plt.imshow(encoded_img[i,:,:,8].reshape(4, 4))\n",
        "    plt.gray()\n",
        "plt.show()"
      ],
      "execution_count": null,
      "outputs": [
        {
          "output_type": "display_data",
          "data": {
            "image/png": "[encoded data removed]",
            "text/plain": [
              "<Figure size 1440x288 with 19 Axes>"
            ]
          },
          "metadata": {
            "needs_background": "light"
          }
        }
      ]
    },
    {
      "cell_type": "code",
      "metadata": {
        "id": "bhFPmtkx4A3b"
      },
      "source": [
        "\n"
      ],
      "execution_count": null,
      "outputs": []
    }
  ]
}